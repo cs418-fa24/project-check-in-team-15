{
 "cells": [
  {
   "cell_type": "markdown",
   "id": "a208aa67",
   "metadata": {},
   "source": [
    "# Progress Report - Group 15"
   ]
  },
  {
   "cell_type": "markdown",
   "id": "360d2de7",
   "metadata": {},
   "source": [
    "## Link to Github Repository\n",
    "https://github.com/cs418-fa24/project-check-in-team-15 "
   ]
  },
  {
   "cell_type": "markdown",
   "id": "e73e55bb",
   "metadata": {},
   "source": [
    "## Project introduction\n",
    "The issues that we are addressing with this project include ones that incorporate the inconsistencies of rhetoric of influential people when attempting to gain positions of power. We are analyzing how different politicians talk when they are on campaign and when they are not on campaign. We currently have the tweets of Donald Trump and are investigating the frequency of certain words and are determining the rhetoric that is displayed by it. "
   ]
  },
  {
   "cell_type": "markdown",
   "id": "c1af771c",
   "metadata": {},
   "source": [
    "## Any Changes \n",
    "We have scaled down slightly from our initial estimates of having thousands of politicians to choose from, to only include some of the more popular ones. For instance, we currently have the tweets of Trump, but we plan to incorporate the tweets of Kamala Harris, Barack Obama and Hillary Clinton. "
   ]
  },
  {
   "cell_type": "markdown",
   "id": "3f320c98",
   "metadata": {},
   "source": [
    "## Data Cleaning\n",
    "We decided to scrape the tweets using the ScrapingDog API that gets the information for a tweet by any given user. We made API requests and were able to get a small sample size for the meanwhile, with more tweets and more data still to come in the coming weeks. "
   ]
  },
  {
   "cell_type": "code",
   "execution_count": null,
   "id": "ee9e1540",
   "metadata": {},
   "outputs": [],
   "source": [
    "import csv\n",
    "import requests\n",
    "\n",
    "# Define the API key and base URL for the API request\n",
    "api_key = 'key'\n",
    "api_base_url = 'https://api.scrapingdog.com/twitter'"
   ]
  },
  {
   "cell_type": "markdown",
   "id": "6810c721",
   "metadata": {},
   "source": [
    "This will scrape tweets from Donald Trump when NOT campaigning ranging from 2017-2019 and save them into csv"
   ]
  },
  {
   "cell_type": "code",
   "execution_count": null,
   "id": "e7056688",
   "metadata": {},
   "outputs": [],
   "source": [
    "# Input CSV file containing tweet URLs\n",
    "input_csv = 'donald_non_campaign_URLS.csv'\n",
    "\n",
    "# Output CSV file to store fetched tweet data\n",
    "output_csv = 'trump_non_campaign_data.csv'\n",
    "\n",
    "# Define the headers for the output CSV file\n",
    "csv_headers = [\n",
    "    'views', 'retweets', 'quotes', 'likes', 'bookmarks', 'tweet', \n",
    "    'profile_picture', 'name', 'profile_handle', 'profile_url', \n",
    "    'tweet_timing', 'tweet_date', 'tweet_id', 'tweet_url'\n",
    "]\n",
    "\n",
    "# Read tweet URLs from the input CSV and fetch tweet data\n",
    "with open(input_csv, mode='r') as infile, open(output_csv, mode='w', newline='', encoding='utf-8') as outfile:\n",
    "    reader = csv.reader(infile)\n",
    "    writer = csv.DictWriter(outfile, fieldnames=csv_headers)\n",
    "    \n",
    "    writer.writeheader()\n",
    "    \n",
    "    for row in reader:\n",
    "        tweet_url = row[0]\n",
    "        \n",
    "        # Prepare parameters for the API request\n",
    "        params = {\n",
    "            'api_key': api_key,\n",
    "            'url': tweet_url,\n",
    "            'parsed': 'true'\n",
    "        }\n",
    "        \n",
    "        # Make the API request\n",
    "        response = requests.get(api_base_url, params=params)\n",
    "        \n",
    "        # Check if the request was successful\n",
    "        if response.status_code == 200:\n",
    "            # Parse the JSON response\n",
    "            response_data = response.json()\n",
    "            \n",
    "            if response_data and len(response_data) > 1:\n",
    "                tweet_info = response_data[1]\n",
    "                \n",
    "                # Write tweet data to the CSV file\n",
    "                writer.writerow({\n",
    "                    'views': tweet_info.get('views'),\n",
    "                    'retweets': tweet_info.get('retweets'),\n",
    "                    'quotes': tweet_info.get('quotes'),\n",
    "                    'likes': tweet_info.get('likes'),\n",
    "                    'bookmarks': tweet_info.get('bookmarks'),\n",
    "                    'tweet': tweet_info.get('tweet'),\n",
    "                    'profile_picture': tweet_info.get('profile_picture'),\n",
    "                    'name': tweet_info.get('name'),\n",
    "                    'profile_handle': tweet_info.get('profile_handle'),\n",
    "                    'profile_url': tweet_info.get('profile_url'),\n",
    "                    'tweet_timing': tweet_info.get('tweet_timing'),\n",
    "                    'tweet_date': tweet_info.get('tweet_date'),\n",
    "                    'tweet_id': tweet_info.get('tweet_id'),\n",
    "                    'tweet_url': tweet_info.get('tweet_url')\n",
    "                })\n",
    "            else:\n",
    "                print(f\"No data for URL: {tweet_url}\")\n",
    "        else:\n",
    "            print(f\"Request failed for URL: {tweet_url} with status code: {response.status_code}\")"
   ]
  },
  {
   "cell_type": "markdown",
   "id": "e46be22f",
   "metadata": {},
   "source": [
    "This will scrape tweets from Donald Trump DURING campaigning ranging from 2019-2021 and save them into csv"
   ]
  },
  {
   "cell_type": "code",
   "execution_count": null,
   "id": "868e8386",
   "metadata": {},
   "outputs": [],
   "source": [
    "# Input CSV file containing tweet URLs\n",
    "input_csv = 'donald_campaign_URLS.csv'\n",
    "\n",
    "# Output CSV file to store fetched tweet data\n",
    "output_csv = 'trump_campaign_data.csv'\n",
    "\n",
    "# Define the headers for the output CSV file\n",
    "csv_headers = [\n",
    "    'views', 'retweets', 'quotes', 'likes', 'bookmarks', 'tweet', \n",
    "    'profile_picture', 'name', 'profile_handle', 'profile_url', \n",
    "    'tweet_timing', 'tweet_date', 'tweet_id', 'tweet_url'\n",
    "]\n",
    "\n",
    "# Read tweet URLs from the input CSV and fetch tweet data\n",
    "with open(input_csv, mode='r') as infile, open(output_csv, mode='w', newline='', encoding='utf-8') as outfile:\n",
    "    reader = csv.reader(infile)\n",
    "    writer = csv.DictWriter(outfile, fieldnames=csv_headers)\n",
    "    \n",
    "    # Write the header row to the output CSV file\n",
    "    writer.writeheader()\n",
    "    \n",
    "    for row in reader:\n",
    "        tweet_url = row[0]\n",
    "        \n",
    "        params = {\n",
    "            'api_key': api_key,\n",
    "            'url': tweet_url,\n",
    "            'parsed': 'true'\n",
    "        }\n",
    "        \n",
    "        response = requests.get(api_base_url, params=params)\n",
    "        \n",
    "        # Check if the request was successful\n",
    "        if response.status_code == 200:\n",
    "            # Parse the JSON response\n",
    "            response_data = response.json()\n",
    "            \n",
    "            # Extract tweet data if available\n",
    "            if response_data and len(response_data) > 1:\n",
    "                tweet_info = response_data[1]\n",
    "                \n",
    "                # Write tweet data to the CSV file\n",
    "                writer.writerow({\n",
    "                    'views': tweet_info.get('views'),\n",
    "                    'retweets': tweet_info.get('retweets'),\n",
    "                    'quotes': tweet_info.get('quotes'),\n",
    "                    'likes': tweet_info.get('likes'),\n",
    "                    'bookmarks': tweet_info.get('bookmarks'),\n",
    "                    'tweet': tweet_info.get('tweet'),\n",
    "                    'profile_picture': tweet_info.get('profile_picture'),\n",
    "                    'name': tweet_info.get('name'),\n",
    "                    'profile_handle': tweet_info.get('profile_handle'),\n",
    "                    'profile_url': tweet_info.get('profile_url'),\n",
    "                    'tweet_timing': tweet_info.get('tweet_timing'),\n",
    "                    'tweet_date': tweet_info.get('tweet_date'),\n",
    "                    'tweet_id': tweet_info.get('tweet_id'),\n",
    "                    'tweet_url': tweet_info.get('tweet_url')\n",
    "                })\n",
    "            else:\n",
    "                print(f\"No data for URL: {tweet_url}\")\n",
    "        else:\n",
    "            print(f\"Request failed for URL: {tweet_url} with status code: {response.status_code}\")"
   ]
  },
  {
   "cell_type": "markdown",
   "id": "f287f65e",
   "metadata": {},
   "source": [
    "The code above results in two datasets. Trump's tweets from non-campaign and tweets during campaign. "
   ]
  },
  {
   "cell_type": "markdown",
   "id": "bbdb29f1",
   "metadata": {},
   "source": [
    "## Exploratory Data Analysis\n",
    "data analysis here"
   ]
  },
  {
   "cell_type": "code",
   "execution_count": 2,
   "id": "007bdfc5",
   "metadata": {},
   "outputs": [
    {
     "name": "stdout",
     "output_type": "stream",
     "text": [
      "Tone Summary (Before Election):\n",
      "tweet\n",
      "Negative    25\n",
      "Positive    15\n",
      "Neutral      8\n",
      "Name: count, dtype: int64\n",
      "\n",
      "Tone Summary (After Election):\n",
      "tweet\n",
      "Positive    55\n",
      "Negative    41\n",
      "Neutral     22\n",
      "Name: count, dtype: int64\n",
      "\n",
      "Most Common Words Before Election:\n",
      "[('great', 11), ('work', 6), ('fake', 5), ('win', 4), ('nervous', 4), ('terrible', 3), ('good', 3), ('fraud', 3), ('supreme', 3), ('criminal', 3)]\n",
      "\n",
      "Most Common Words After Election:\n",
      "[('great', 29), ('better', 8), ('best', 8), ('win', 8), ('fake', 7), ('strong', 7), ('crime', 7), ('work', 7), ('bad', 5), ('collusion', 5)]\n"
     ]
    },
    {
     "data": {
      "image/png": "[encoded data removed]",
      "text/plain": [
       "<Figure size 1200x600 with 2 Axes>"
      ]
     },
     "metadata": {},
     "output_type": "display_data"
    }
   ],
   "source": [
    "import pandas as pd\n",
    "from collections import Counter\n",
    "import re\n",
    "import matplotlib.pyplot as plt\n",
    "\n",
    "def load_sentiment_words(positive_file, negative_file):\n",
    "    positive_words = pd.read_csv(positive_file, header=None).squeeze().str.strip().tolist()\n",
    "    negative_words = pd.read_csv(negative_file, header=None).squeeze().str.strip().tolist()\n",
    "    return positive_words, negative_words\n",
    "\n",
    "def clean_text(text):\n",
    "    text = re.sub(r'http\\S+', '', text)\n",
    "    text = re.sub(r'[^A-Za-z\\s]', '', text)\n",
    "    text = text.lower()\n",
    "    return text\n",
    "\n",
    "def analyze_tone(tweet, positive_words, negative_words):\n",
    "    words = clean_text(tweet).split()\n",
    "    positive_count = sum(word in positive_words for word in words)\n",
    "    negative_count = sum(word in negative_words for word in words)\n",
    "    total_words = len(words)\n",
    "    \n",
    "    if total_words == 0:\n",
    "        return \"Neutral\"\n",
    "    \n",
    "    if positive_count > negative_count:\n",
    "        return \"Positive\"\n",
    "    elif negative_count > positive_count:\n",
    "        return \"Negative\"\n",
    "    else:\n",
    "        return \"Neutral\"\n",
    "\n",
    "def get_word_frequency(tweets, positive_words, negative_words):\n",
    "    all_words = []\n",
    "    for tweet in tweets:\n",
    "        words = clean_text(tweet).split()\n",
    "        filtered_words = [word for word in words if word in positive_words or word in negative_words]\n",
    "        all_words.extend(filtered_words)\n",
    "    return Counter(all_words)\n",
    "\n",
    "def analyze_tweets(file_path, positive_words, negative_words):\n",
    "    df = pd.read_csv(file_path)\n",
    "    tweets = df['tweet']\n",
    "    tones = tweets.apply(lambda tweet: analyze_tone(tweet, positive_words, negative_words))\n",
    "    word_frequency = get_word_frequency(tweets, positive_words, negative_words)\n",
    "    \n",
    "    tone_summary = tones.value_counts()\n",
    "    return tone_summary, word_frequency\n",
    "\n",
    "def compare_tweets(before_file, after_file, positive_words, negative_words):\n",
    "    before_tone, before_word_freq = analyze_tweets(before_file, positive_words, negative_words)\n",
    "    after_tone, after_word_freq = analyze_tweets(after_file, positive_words, negative_words)\n",
    "    \n",
    "    print(\"Tone Summary (Before Election):\")\n",
    "    print(before_tone)\n",
    "    print(\"\\nTone Summary (After Election):\")\n",
    "    print(after_tone)\n",
    "    \n",
    "    print(\"\\nMost Common Words Before Election:\")\n",
    "    print(before_word_freq.most_common(10))\n",
    "    print(\"\\nMost Common Words After Election:\")\n",
    "    print(after_word_freq.most_common(10))\n",
    "\n",
    "    fig, ax = plt.subplots(1, 2, figsize=(12, 6))\n",
    "    before_tone.plot(kind='bar', ax=ax[0], color='skyblue', title=\"Tone Summary (Before Election)\")\n",
    "    after_tone.plot(kind='bar', ax=ax[1], color='salmon', title=\"Tone Summary (After Election)\")\n",
    "    plt.show()\n",
    "\n",
    "def main():\n",
    "    positive_file = \"positive_words_list.csv\"\n",
    "    negative_file = \"negative_words_list.csv\"\n",
    "    \n",
    "    positive_words, negative_words = load_sentiment_words(positive_file, negative_file)\n",
    "    \n",
    "    candidate = input(\"Enter a candidate name (Donald Trump or Kamala Harris): \")\n",
    "    if candidate.lower() == \"donald trump\":\n",
    "        before_file = \"trump_campaign_data.csv\"\n",
    "        after_file = \"trump_non_campaign_data.csv\"\n",
    "    elif candidate.lower() == \"kamala harris\":\n",
    "        before_file = \"harris_before.csv\"\n",
    "        after_file = \"harris_after.csv\"\n",
    "    else:\n",
    "        print(\"Invalid candidate name. Please enter 'Donald Trump' or 'Kamala Harris'.\")\n",
    "        return\n",
    "    \n",
    "    compare_tweets(before_file, after_file, positive_words, negative_words)\n",
    "\n",
    "if __name__ == \"__main__\":\n",
    "    main()\n"
   ]
  },
  {
   "cell_type": "markdown",
   "id": "5e1f7c22",
   "metadata": {},
   "source": [
    "## At least one visualization\n",
    "The refinement of the above code allows for a nice visualization of data "
   ]
  },
  {
   "cell_type": "code",
   "execution_count": 3,
   "id": "e9416df6",
   "metadata": {},
   "outputs": [
    {
     "data": {
      "image/png": "[encoded data removed]",
      "text/plain": [
       "<Figure size 1000x600 with 1 Axes>"
      ]
     },
     "metadata": {},
     "output_type": "display_data"
    }
   ],
   "source": [
    "import pandas as pd\n",
    "from collections import Counter\n",
    "import re\n",
    "import matplotlib.pyplot as plt\n",
    "\n",
    "def load_sentiment_words(positive_file, negative_file):\n",
    "    positive_words = pd.read_csv(positive_file, header=None).squeeze().str.strip().tolist()\n",
    "    negative_words = pd.read_csv(negative_file, header=None).squeeze().str.strip().tolist()\n",
    "    return positive_words, negative_words\n",
    "\n",
    "def clean_text(text):\n",
    "    text = re.sub(r'http\\S+', '', text)\n",
    "    text = re.sub(r'[^A-Za-z\\s]', '', text)\n",
    "    text = text.lower()\n",
    "    return text\n",
    "\n",
    "def analyze_tone(tweet, positive_words, negative_words):\n",
    "    words = clean_text(tweet).split()\n",
    "    positive_count = sum(word in positive_words for word in words)\n",
    "    negative_count = sum(word in negative_words for word in words)\n",
    "    total_words = len(words)\n",
    "    \n",
    "    if total_words == 0:\n",
    "        return \"Neutral\"\n",
    "    \n",
    "    if positive_count > negative_count:\n",
    "        return \"Positive\"\n",
    "    elif negative_count > positive_count:\n",
    "        return \"Negative\"\n",
    "    else:\n",
    "        return \"Neutral\"\n",
    "\n",
    "def get_word_frequency(tweets, positive_words, negative_words):\n",
    "    all_words = []\n",
    "    for tweet in tweets:\n",
    "        words = clean_text(tweet).split()\n",
    "        filtered_words = [word for word in words if word in positive_words or word in negative_words]\n",
    "        all_words.extend(filtered_words)\n",
    "    return Counter(all_words)\n",
    "\n",
    "def analyze_tweets(file_path, positive_words, negative_words):\n",
    "    df = pd.read_csv(file_path)\n",
    "    tweets = df['tweet']\n",
    "    tones = tweets.apply(lambda tweet: analyze_tone(tweet, positive_words, negative_words))\n",
    "    word_frequency = get_word_frequency(tweets, positive_words, negative_words)\n",
    "    \n",
    "    tone_summary = tones.value_counts()\n",
    "    return tone_summary, word_frequency\n",
    "\n",
    "def compare_tweets(before_file, after_file, positive_words, negative_words):\n",
    "    before_tone, before_word_freq = analyze_tweets(before_file, positive_words, negative_words)\n",
    "    after_tone, after_word_freq = analyze_tweets(after_file, positive_words, negative_words)\n",
    "    \n",
    "    tone_categories = [\"Positive\", \"Negative\", \"Neutral\"]\n",
    "    before_counts = [before_tone.get(tone, 0) for tone in tone_categories]\n",
    "    after_counts = [after_tone.get(tone, 0) for tone in tone_categories]\n",
    "\n",
    "    bar_width = 0.35\n",
    "    index = range(len(tone_categories))\n",
    "\n",
    "    fig, ax = plt.subplots(figsize=(10, 6))\n",
    "    ax.bar(index, before_counts, bar_width, label='Before Election', color='skyblue')\n",
    "    ax.bar([i + bar_width for i in index], after_counts, bar_width, label='After Election', color='salmon')\n",
    "    \n",
    "    ax.set_xlabel('Tone Categories')\n",
    "    ax.set_ylabel('Frequency')\n",
    "    ax.set_title('Tone Comparison Before and After Election')\n",
    "    ax.set_xticks([i + bar_width / 2 for i in index])\n",
    "    ax.set_xticklabels(tone_categories)\n",
    "    ax.legend()\n",
    "\n",
    "    plt.tight_layout()\n",
    "    plt.show()\n",
    "\n",
    "\n",
    "def main():\n",
    "    positive_file = \"positive_words_list.csv\"\n",
    "    negative_file = \"negative_words_list.csv\"\n",
    "    \n",
    "    positive_words, negative_words = load_sentiment_words(positive_file, negative_file)\n",
    "    \n",
    "    candidate = input(\"Enter a candidate name (Donald Trump or Kamala Harris): \")\n",
    "    if candidate.lower() == \"donald trump\":\n",
    "        before_file = \"trump_campaign_data.csv\"\n",
    "        after_file = \"trump_non_campaign_data.csv\"\n",
    "    elif candidate.lower() == \"kamala harris\":\n",
    "        before_file = \"harris_before.csv\"\n",
    "        after_file = \"harris_after.csv\"\n",
    "    else:\n",
    "        print(\"Invalid candidate name. Please enter 'Donald Trump' or 'Kamala Harris'.\")\n",
    "        return\n",
    "    \n",
    "    compare_tweets(before_file, after_file, positive_words, negative_words)\n",
    "\n",
    "if __name__ == \"__main__\":\n",
    "    main()\n"
   ]
  },
  {
   "cell_type": "markdown",
   "id": "416ccf61",
   "metadata": {},
   "source": [
    "## At least one ML analysis on your dataset\n",
    "We decided to go with a sentiment classifier for individual tweets. We can train to classify tweets based on the words that they use. We are using sklearn."
   ]
  },
  {
   "cell_type": "code",
   "execution_count": 5,
   "id": "fda7f3c9",
   "metadata": {},
   "outputs": [],
   "source": [
    "import pandas as pd\n",
    "from sklearn.model_selection import train_test_split\n",
    "from sklearn.feature_extraction.text import CountVectorizer\n",
    "from sklearn.naive_bayes import MultinomialNB\n",
    "from sklearn.metrics import accuracy_score, classification_report"
   ]
  },
  {
   "cell_type": "code",
   "execution_count": 6,
   "id": "e76540b3",
   "metadata": {},
   "outputs": [],
   "source": [
    "def load_and_label_data(file_path, positive_words, negative_words):\n",
    "    df = pd.read_csv(file_path)\n",
    "    tweets = df['tweet']\n",
    "    df['label'] = tweets.apply(lambda tweet: analyze_tone(tweet, positive_words, negative_words))\n",
    "    return df[['tweet', 'label']]"
   ]
  },
  {
   "cell_type": "code",
   "execution_count": null,
   "id": "4eb9b1cd",
   "metadata": {},
   "outputs": [],
   "source": [
    "def train_classifier(df):\n",
    "    X = df['tweet']\n",
    "    y = df['label']\n",
    "    \n",
    "    vectorizer = CountVectorizer(stop_words='english')\n",
    "    X_vectorized = vectorizer.fit_transform(X)\n",
    "    \n",
    "    X_train, X_test, y_train, y_test = train_test_split(X_vectorized, y, test_size=0.2, random_state=42)\n",
    "    \n",
    "    model = MultinomialNB()\n",
    "    model.fit(X_train, y_train)\n",
    "    \n",
    "    y_pred = model.predict(X_test)\n",
    "    \n",
    "    accuracy = accuracy_score(y_test, y_pred)\n",
    "    print(f'Accuracy: {accuracy:.2f}')\n",
    "    print(classification_report(y_test, y_pred))\n",
    "    \n",
    "    return model, vectorizer"
   ]
  },
  {
   "cell_type": "code",
   "execution_count": null,
   "id": "d0c3620f",
   "metadata": {},
   "outputs": [],
   "source": [
    "def load_sentiment_words(positive_file, negative_file):\n",
    "    positive_words = pd.read_csv(positive_file, header=None).squeeze().str.strip().tolist()\n",
    "    negative_words = pd.read_csv(negative_file, header=None).squeeze().str.strip().tolist()\n",
    "    return positive_words, negative_words\n",
    "\n",
    "positive_file = \"positive_words_list.csv\"\n",
    "negative_file = \"negative_words_list.csv\"\n",
    "positive_words, negative_words = load_sentiment_words(positive_file, negative_file)"
   ]
  },
  {
   "cell_type": "code",
   "execution_count": null,
   "id": "38738d69",
   "metadata": {},
   "outputs": [
    {
     "name": "stdout",
     "output_type": "stream",
     "text": [
      "Accuracy: 0.30\n",
      "              precision    recall  f1-score   support\n",
      "\n",
      "    Negative       0.33      0.17      0.22         6\n",
      "     Neutral       0.40      0.67      0.50         3\n",
      "    Positive       0.00      0.00      0.00         1\n",
      "\n",
      "    accuracy                           0.30        10\n",
      "   macro avg       0.24      0.28      0.24        10\n",
      "weighted avg       0.32      0.30      0.28        10\n",
      "\n"
     ]
    }
   ],
   "source": [
    "before_file = \"trump_campaign_data.csv\"\n",
    "before_df = load_and_label_data(before_file, positive_words, negative_words)\n",
    "\n",
    "# Train\n",
    "model, vectorizer = train_classifier(before_df)"
   ]
  },
  {
   "cell_type": "code",
   "execution_count": null,
   "id": "1c303d6a",
   "metadata": {},
   "outputs": [
    {
     "name": "stdout",
     "output_type": "stream",
     "text": [
      "                                               tweet predicted_label\n",
      "0  The Manufacturing Index rose to 59%, the highe...        Positive\n",
      "1  Senator Luther Strange has gone up a lot in th...        Positive\n",
      "2  Great interview on @foxandfriends with the par...        Positive\n",
      "3  Since Congress can't get its act together on H...        Negative\n",
      "4  Stock Market has increased by 5.2 Trillion dol...        Negative\n"
     ]
    }
   ],
   "source": [
    "after_file = \"trump_non_campaign_data.csv\"\n",
    "after_df = pd.read_csv(after_file)\n",
    "after_tweets = after_df['tweet']\n",
    "\n",
    "after_tweets_vectorized = vectorizer.transform(after_tweets)\n",
    "after_predictions = model.predict(after_tweets_vectorized)\n",
    "\n",
    "result_df = pd.DataFrame({'tweet': after_tweets, 'predicted_label': after_predictions})\n",
    "print(result_df.head())"
   ]
  },
  {
   "cell_type": "markdown",
   "id": "79e5e818",
   "metadata": {},
   "source": [
    "## Reflection\n",
    "\n",
    "What is the hardest part of the project that you've encountered so far?<br>\n",
    "--The most difficult part of the project so far would be the analysis of the data. With many possibilities it's difficult to stick with one direction.\n",
    "\n",
    "What are your initial insights?<br>\n",
    "--Initial insights include being able to know generally how politicians behave during election time.\n",
    "\n",
    "Are there any concrete results you can show at this point? If not, why not?<br>\n",
    "--There are a couple interesting results so far. We have realized that when looking at Trump's numbers, he seems to use more of the negative and positive words after election. He's simply using more descriptive words. \n",
    "\n",
    "Going forward, what are the current biggest problems you're facing?<br>\n",
    "--Issues we face are the creating new ways to analyze the data.\n",
    "\n",
    "Do you think you are on track with your project? If not, what parts do you need to dedicate more time to?<br>\n",
    "--We need to gather more data and clean it so that it can be better suited for the visualizations. \n",
    "\n",
    "Given your initial exploration of the data, is it worth proceeding with your project? Why? If not, how are you going to change your project and why do you think it's better than your current results?<br>\n",
    "--We will be going forward with this project. We've concluded there is a lot to learn still with presidential candidates. \n"
   ]
  },
  {
   "cell_type": "markdown",
   "id": "4d90605c",
   "metadata": {},
   "source": [
    "## Roles/Coordination(Important)\n",
    "Here is a breakdown on what each person worked on. We are coordinating different roles to each other and assigning tasks accordingly.\n",
    "\n",
    "Orlando - Responsible for finding data sources, cleaning, progress report<br>\n",
    "Abderrahmane - Responsible for data analysis of tweets to set up for visualization<br>\n",
    "Blaine - Responsible for partial sponsor in attaining tweet scraping API<br>\n",
    "Ahmed - Responsible for data visualization and attaining tweet scraping API"
   ]
  },
  {
   "cell_type": "markdown",
   "id": "64a049b0",
   "metadata": {},
   "source": [
    "## Next Steps\n",
    "The next steps for the group would be to gather more data and further refine the cleaning of said data. Next steps is to create more graphs and allow for more interesting data visualization. We realized soon that the scope of the project will have to be evaluated. "
   ]
  }
 ],
 "metadata": {
  "kernelspec": {
   "display_name": "Python 3 (ipykernel)",
   "language": "python",
   "name": "python3"
  },
  "language_info": {
   "codemirror_mode": {
    "name": "ipython",
    "version": 3
   },
   "file_extension": ".py",
   "mimetype": "text/x-python",
   "name": "python",
   "nbconvert_exporter": "python",
   "pygments_lexer": "ipython3",
   "version": "3.12.4"
  }
 },
 "nbformat": 4,
 "nbformat_minor": 5
}
