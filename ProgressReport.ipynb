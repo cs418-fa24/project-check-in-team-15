{
 "cells": [
  {
   "cell_type": "markdown",
   "id": "4541e77a",
   "metadata": {},
   "source": [
    "# Progress Report - Group 15"
   ]
  },
  {
   "cell_type": "markdown",
   "id": "f63c6588",
   "metadata": {},
   "source": [
    "## Link to Github Repository\n",
    "https://github.com/cs418-fa24/project-check-in-team-15 "
   ]
  },
  {
   "cell_type": "markdown",
   "id": "aae953b4",
   "metadata": {},
   "source": [
    "## Project introduction\n",
    "The issues that we are addressing with this project include ones that incorporate the inconsistencies of rhetoric of influential people when attempting to gain positions of power. We are analyzing how different politicians talk when they are on campaign and when they are not on campaign. We currently have the tweets of Donald Trump and are investigating the frequency of certain words and are determining the rhetoric that is displayed by it. "
   ]
  },
  {
   "cell_type": "markdown",
   "id": "ae98586f",
   "metadata": {},
   "source": [
    "## Any Changes \n",
    "We have scaled down slightly from our initial estimates of having thousands of politicians to choose from, to only include some of the more popular ones. For instance, we currently have the tweets of Trump, but we plan to incorporate the tweets of Kamala Harris, Barack Obama and Hillary Clinton. "
   ]
  },
  {
   "cell_type": "markdown",
   "id": "70843cb6",
   "metadata": {},
   "source": [
    "## Data Cleaning\n",
    "We decided to scrape the tweets using the ScrapingDog API that gets the information for a tweet by any given user. We made API requests and were able to get a small sample size for the meanwhile, with more tweets and more data still to come in the coming weeks. "
   ]
  },
  {
   "cell_type": "code",
   "execution_count": null,
   "id": "e9b88a96",
   "metadata": {
    "vscode": {
     "languageId": "plaintext"
    }
   },
   "outputs": [],
   "source": [
    "import csv\n",
    "import requests\n",
    "\n",
    "# Define the API key and base URL for the API request\n",
    "api_key = 'key'\n",
    "api_base_url = 'https://api.scrapingdog.com/twitter'"
   ]
  },
  {
   "cell_type": "markdown",
   "id": "bf8067a6",
   "metadata": {},
   "source": [
    "## Exploratory Data Analysis\n",
    "data analysis here"
   ]
  },
  {
   "cell_type": "markdown",
   "id": "ec51df73",
   "metadata": {},
   "source": [
    "## At least one visualization\n",
    "visual here"
   ]
  },
  {
   "cell_type": "markdown",
   "id": "91f0c7d1",
   "metadata": {},
   "source": [
    "## At least one ML analysis on your dataset\n",
    "ML here"
   ]
  },
  {
   "cell_type": "markdown",
   "id": "aafbb674",
   "metadata": {},
   "source": [
    "## Reflection\n",
    "reflection here"
   ]
  },
  {
   "cell_type": "markdown",
   "id": "6550104f",
   "metadata": {},
   "source": [
    "## Roles/Coordination (Important)\n",
    "Orlando-"
   ]
  },
  {
   "cell_type": "markdown",
   "id": "efb8ed68",
   "metadata": {},
   "source": [
    "## Next Steps\n",
    "next steps"
   ]
  }
 ],
 "metadata": {
  "language_info": {
   "name": "python"
  }
 },
 "nbformat": 4,
 "nbformat_minor": 5
}
