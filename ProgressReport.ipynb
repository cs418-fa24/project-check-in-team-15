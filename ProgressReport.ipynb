{
 "cells": [
  {
   "cell_type": "markdown",
   "id": "4541e77a",
   "metadata": {},
   "source": [
    "# Progress Report - Group 15"
   ]
  },
  {
   "cell_type": "markdown",
   "id": "aae953b4",
   "metadata": {},
   "source": [
    "## Project introduction\n",
    "into here"
   ]
  },
  {
   "cell_type": "markdown",
   "id": "ae98586f",
   "metadata": {},
   "source": [
    "## Any Changes \n",
    "changes here"
   ]
  },
  {
   "cell_type": "markdown",
   "id": "70843cb6",
   "metadata": {},
   "source": [
    "## Data Cleaning\n",
    "clean here"
   ]
  },
  {
   "cell_type": "markdown",
   "id": "bf8067a6",
   "metadata": {},
   "source": [
    "## Exploratory Data Analysis\n",
    "data analysis here"
   ]
  },
  {
   "cell_type": "markdown",
   "id": "ec51df73",
   "metadata": {},
   "source": [
    "## At least one visualization\n",
    "visual here"
   ]
  },
  {
   "cell_type": "markdown",
   "id": "91f0c7d1",
   "metadata": {},
   "source": [
    "## At least one ML analysis on your dataset\n",
    "ML here"
   ]
  },
  {
   "cell_type": "markdown",
   "id": "aafbb674",
   "metadata": {},
   "source": [
    "## Reflection\n",
    "reflection here"
   ]
  },
  {
   "cell_type": "markdown",
   "id": "6550104f",
   "metadata": {},
   "source": [
    "## Roles/Coordination (Important)\n",
    "Orlando-"
   ]
  },
  {
   "cell_type": "markdown",
   "id": "efb8ed68",
   "metadata": {},
   "source": [
    "## Next Steps\n",
    "next steps"
   ]
  }
 ],
 "metadata": {
  "language_info": {
   "name": "python"
  }
 },
 "nbformat": 4,
 "nbformat_minor": 5
}
